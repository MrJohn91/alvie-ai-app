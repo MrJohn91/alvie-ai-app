{
 "cells": [
  {
   "cell_type": "code",
   "execution_count": 1,
   "metadata": {},
   "outputs": [],
   "source": [
    "from pydantic import BaseModel  # Import Pydantic for data validation\n",
    "import pymongo  # Import PyMongo for MongoDB connection\n",
    "import traceback  # Import traceback for error handling\n",
    "import os, sys  # Import OS and SYS for system operations"
   ]
  },
  {
   "cell_type": "markdown",
   "metadata": {},
   "source": [
    "### Setting Up MongoDB for storing and managing chat history for the document based AI application"
   ]
  },
  {
   "cell_type": "code",
   "execution_count": 2,
   "metadata": {},
   "outputs": [
    {
     "name": "stdout",
     "output_type": "stream",
     "text": [
      "✅ Successfully connected to MongoDB!\n"
     ]
    }
   ],
   "source": [
    "import pymongo\n",
    "import os\n",
    "from dotenv import load_dotenv\n",
    "\n",
    "# Load environment variables\n",
    "load_dotenv()\n",
    "\n",
    "# Connect to MongoDB\n",
    "try:\n",
    "    client = pymongo.MongoClient(os.getenv(\"MONGO_URL\"), tls=True, tlsAllowInvalidCertificates=True)\n",
    "    db = client[\"chat_with_doc\"]\n",
    "    print(\"✅ Successfully connected to MongoDB!\")\n",
    "except Exception as e:\n",
    "    print(\"❌ MongoDB Connection Failed:\", e)"
   ]
  },
  {
   "cell_type": "code",
   "execution_count": 6,
   "metadata": {},
   "outputs": [
    {
     "name": "stdout",
     "output_type": "stream",
     "text": [
      "OpenAI API is working! Response: Hello! I'm just a virtual assistant, so I don't have feelings, but thank you for asking. How can I assist you today?\n"
     ]
    }
   ],
   "source": [
    "import openai\n",
    "import os\n",
    "from dotenv import load_dotenv\n",
    "\n",
    "load_dotenv() \n",
    "client = openai.OpenAI(api_key=os.getenv(\"OPENAI_API_KEY\")) \n",
    "\n",
    "try:\n",
    "    response = client.chat.completions.create(\n",
    "        model=\"gpt-3.5-turbo\",\n",
    "        messages=[{\"role\": \"user\", \"content\": \"Hello, how are you?\"}]\n",
    "    )\n",
    "    print(\"OpenAI API is working! Response:\", response.choices[0].message.content)\n",
    "except Exception as e:\n",
    "    print(\"❌ OpenAI API Error:\", e)"
   ]
  },
  {
   "cell_type": "code",
   "execution_count": null,
   "metadata": {},
   "outputs": [],
   "source": [
    "pip install langchain langchain-openai langchain-community faiss-cpu boto3 awswrangler pymupdf"
   ]
  },
  {
   "cell_type": "code",
   "execution_count": null,
   "metadata": {},
   "outputs": [],
   "source": [
    "%pip install fastapi uvicorn nest_asyncio pyngrok boto3 fitz\n"
   ]
  },
  {
   "cell_type": "code",
   "execution_count": 4,
   "metadata": {},
   "outputs": [
    {
     "name": "stdout",
     "output_type": "stream",
     "text": [
      "Page 1:\n",
      "See discussions, stats, and author profiles for this publication at: https://www.researchgate.net/publication/383212769\n",
      "AI in Healthcare: Revolutionizing Diagnosis and Therapy\n",
      "Article  in  International Journal of Multidisciplinary Sciences and Arts · July 2024\n",
      "DOI: 10.47709/ijmdsa.v3i3.4546\n",
      "CITATIONS\n",
      "31\n",
      "READS\n",
      "777\n",
      "4 authors, including:\n",
      "Nasrullah Abbasi\n",
      "Independent Researcher\n",
      "15 PUBLICATIONS   132 CITATIONS   \n",
      "SEE PROFILE\n",
      "All content following this page was uploaded by Nasrullah Abbasi on 18 August 2024.\n",
      "The user has requested enhancement of the downloaded file.\n",
      "\n",
      "\n",
      "Page 2:\n",
      " \n",
      " \n",
      "International Journal of \n",
      "Multidisciplinary Sciences and Arts \n",
      "E-ISSN : 2962-1658 \n",
      "Volume 3, Number 3, July 2024 \n",
      "https://doi.org/10.47709/ijmdsa.v3i3.4546  \n",
      " \n",
      "  \n",
      " \n",
      "This is an Creative Commons License This work is licensed under a Creative \n",
      "Commons Attribution-NonCommercial 4.0 International License. \n",
      "118 \n",
      " \n",
      "AI in Healthcare: Revolutionizing Diagnosis and Therapy \n",
      " \n",
      "Shah Zeb1, Nizamullah FNU2, Nasrullah Abbasi3, Muhammad Fahad*4 \n",
      "1,2,3 University: Washington University of Science and Technology,  \n",
      "2900 Eisenhower Ave, Alexandria, VA \n",
      "4 Washington University of Science & Technology \n",
      "1 szeb.student@wust.edu, 2 Nizamullah.student@wust.edu, 3 nabbasi.student@wust.edu, 4 fahad.student@wust.edu \n",
      "  \n",
      " \n",
      "INTRODUCTION \n",
      "The healthcare industry has witnessed a significant transformation due to the widespread use of artificial \n",
      "intelligence (AI) technologies over the past ten years. This change has been fueled by the enormous amount of data \n",
      "generated in the industry and the ability of AI to process and analyze this data in ways that are beyond human \n",
      "capabilities [1]. Essentially, AI in healthcare refers to the use of machine learning algorithms and other cognitive \n",
      "technologies to assist in the diagnosis, treatment, and overall management of patient care.  \n",
      "One of the main factors driving the adoption of AI in healthcare is the overwhelming volume and complexity of \n",
      "medical data generated by the introduction of electronic health records (EHRs), imaging technologies, genomic data, \n",
      "and real-time patient monitoring. Traditional methods of data analysis are no longer sufficient to keep up with this \n",
      "influx, demanding more sophisticated tools. AI systems have the ability to learn from data, identify patterns, and make \n",
      "decisions with minimal human intervention. These capabilities are especially valuable in healthcare, where precision, \n",
      "efficiency, and the ability to process large volumes of data are critical.  \n",
      " \n",
      " \n",
      " \n",
      "*Corresponding Author \n",
      " \n",
      "ABSTRACT \n",
      "Artificial Intelligence (AI) is revolutionizing healthcare through its integration \n",
      "into various domains, significantly enhancing the efficiency, accuracy, and \n",
      "effectiveness of medical practices. This review explores the transformative \n",
      "impact of AI across multiple aspects of healthcare, including diagnostics, \n",
      "personalized treatment, drug discovery, surgery, and more. AI's capabilities in \n",
      "diagnostics and early detection are improving the precision and speed of disease \n",
      "identification, enabling earlier and more effective interventions. Personalized \n",
      "treatment approaches leverage AI to analyze patient data and tailor therapies to \n",
      "individual needs, optimizing outcomes and reducing adverse effects. AI-driven \n",
      "robotics in surgery offer enhanced precision, control, and minimally invasive \n",
      "options, leading to improved surgical outcomes and faster recovery times. \n",
      "Despite these advancements, the adoption of AI in healthcare presents \n",
      "challenges and ethical considerations, including data quality, algorithmic bias, \n",
      "patient privacy, and the responsible use of AI technologies. Addressing these \n",
      "issues is crucial for maintaining trust and ensuring equitable access to AI-\n",
      "powered healthcare solutions. AI's role in drug discovery and development is \n",
      "accelerating the creation of new therapies by optimizing predictive modeling, \n",
      "drug design, and clinical trials, thus reducing costs and speeding up the \n",
      "development process. Future trends and innovations in AI highlight ongoing \n",
      "advancements and the potential for further transformation in healthcare. These \n",
      "include \n",
      "advancements \n",
      "in \n",
      "natural \n",
      "language \n",
      "processing, \n",
      "AI-enhanced \n",
      "telemedicine, wearable health technologies, and ethical AI governance. As AI \n",
      "technology continues to evolve, its impact on healthcare will become \n",
      "increasingly significant, driving progress in patient care, operational efficiency, \n",
      "and medical research. Collaborative efforts among technologists, clinicians, \n",
      "researchers, and policymakers will be essential in harnessing AI's full potential \n",
      "while addressing the complexities and ethical challenges associated with its use. \n",
      "This review underscores the promise of AI to revolutionize healthcare and \n",
      "improve patient outcomes while emphasizing the need for responsible \n",
      "implementation and ongoing evaluation \n",
      "Article History: \n",
      "Submitted: 15-08-2024 \n",
      "Accepted: 16-08-2024 \n",
      "Published: 17-08-2024 \n",
      "Keywords: wearable technology, \n",
      "telemedicine, ethical AI, data \n",
      "privacy, \n",
      "algorithmic \n",
      "bias, \n",
      "healthcare, robotics, personalized \n",
      "medicine, \n",
      "drug \n",
      "discovery, \n",
      "artificial \n",
      "intelligence, \n",
      "and \n",
      "robotics \n",
      " \n",
      "The Journal is licensed under a \n",
      "Creative Commons Attribution-\n",
      "NonCommercial 4.0 International \n",
      "(CC BY-NC 4.0). \n",
      "\n",
      "\n",
      "Page 3:\n",
      " \n",
      " \n",
      "International Journal of \n",
      "Multidisciplinary Sciences and Arts \n",
      "E-ISSN : 2962-1658 \n",
      "Volume 3, Number 3, July 2024 \n",
      "https://doi.org/10.47709/ijmdsa.v3i3.4546  \n",
      " \n",
      "  \n",
      " \n",
      "This is an Creative Commons License This work is licensed under a Creative \n",
      "Commons Attribution-NonCommercial 4.0 International License. \n",
      "119 \n",
      " \n",
      "AI can be broadly classified into three areas in the healthcare industry: diagnostics, treatment, and patient \n",
      "management. In the diagnostics domain, AI has demonstrated significant promise in interpreting medical images, \n",
      "identifying abnormalities, and even forecasting the onset of diseases [3]. For example, AI algorithms are now able to \n",
      "analyze radiology images to detect conditions like tumors, fractures, and infections with a level of accuracy that rivals \n",
      "or even surpasses that of human radiologists. This not only expedites the diagnostic process but also improves accuracy, \n",
      "which could result in better patient outcomes. \n",
      "AI is contributing significantly to the field of personalized medicine in terms of treatment. While traditional \n",
      "approaches to medicine typically use a one-size-fits-all model, which may not be effective for all patients, AI allows for \n",
      "the analysis of unique patient data, such as genetic information, lifestyle factors, and medical history, to create \n",
      "customized treatment plans that are unique to each patient. This approach, known as precision medicine, has the \n",
      "potential to significantly increase patient satisfaction, decrease side effects, and improve treatment effectiveness [4].  \n",
      "The ability to remotely monitor patients reduces the need for frequent hospital visits, improving patient quality of \n",
      "life and relieving pressure on healthcare systems. AI-powered wearable devices and mobile health applications are \n",
      "enabling continuous monitoring of patients, providing real-time data to healthcare providers. This enables early \n",
      "detection of potential health issues, timely interventions, and better management of chronic conditions like diabetes, \n",
      "heart disease, and hypertension. \n",
      "The accuracy of AI algorithms depends largely on the quality of the data they are trained on; biased or inaccurate \n",
      "data can result in incorrect predictions, which can have serious consequences in a healthcare setting. Additionally, there \n",
      "are serious ethical concerns regarding patient privacy and data security; since AI systems frequently require access to \n",
      "large amounts of personal health data, there are questions about how this data is stored, used, and protected [5]. It is \n",
      "imperative that AI technologies adhere to stringent ethical standards and regulatory frameworks in order to earn the trust \n",
      "of patients and healthcare providers.  \n",
      "The future of healthcare is undoubtedly intertwined with the advancements in AI, and embracing this technology \n",
      "will be key to meeting the challenges of the 21st century. AI holds immense potential to transform healthcare by \n",
      "improving diagnostics, personalizing treatment, and enhancing patient management. While there are challenges to \n",
      "overcome, the benefits of AI in healthcare are undeniable. As AI technologies continue to evolve and improve, they are \n",
      "likely to become an integral part of healthcare systems worldwide, ultimately leading to better patient outcomes and \n",
      "more efficient healthcare delivery [6]. \n",
      " \n",
      "ARTIFICIAL INTELLIGENCE IN DIAGNOSTIC IMAGING \n",
      "One of the most significant developments in healthcare is the application of Artificial Intelligence (AI) to \n",
      "diagnostic imaging. Using machine learning algorithms, especially deep learning, to analyze medical images is the main \n",
      "method by which AI is applied to diagnostic imaging, which includes technologies like X-rays, CT scans, MRIs, and \n",
      "ultrasounds. The application of AI in this field is revolutionizing the way images are analyzed and interpreted, leading \n",
      "to faster diagnoses, improved accuracy, and ultimately better patient outcomes [7].  \n",
      "One of the main benefits of artificial intelligence (AI) in diagnostic imaging is that it can increase consistency \n",
      "and accuracy. Although human radiologists are highly skilled, they are susceptible to fatigue, interpretation variability, \n",
      "and the failure to recognize subtle signs of disease, especially in high-stress situations. AI systems, on the other hand, \n",
      "are not limited by these issues and can consistently analyze images with a high degree of accuracy, guaranteeing that \n",
      "even the smallest abnormalities are detected. Research has shown that, for example, AI algorithms can match or even \n",
      "surpass radiologists' accuracy in detecting conditions like lung cancer, breast cancer, and diabetic retinopathy. AI can \n",
      "also speed up diagnosis [8]. \n",
      "Another significant application of AI in diagnostic imaging is in the area of triage. AI algorithms can be used to \n",
      "prioritize imaging studies based on the likelihood of serious findings. For example, in a busy hospital setting, AI can \n",
      "scan incoming radiology images and flag those that show signs of critical conditions, such as intracranial hemorrhage or \n",
      "aortic dissection, ensuring that these cases are reviewed by a radiologist as a priority. This triage capability helps in \n",
      "managing workloads and ensuring that patients with urgent needs receive timely care. Beyond detection, AI is also \n",
      "making strides in the quantification and classification of diseases. AI tools can measure the size, shape, and growth of \n",
      "tumors over time, providing valuable information for treatment planning and monitoring [9]. In the field of cardiology, \n",
      "AI is being used to assess the severity of atherosclerosis by analyzing coronary artery scans, aiding in the decision-\n",
      "making process for interventions such as stenting or bypass surgery. \n",
      "However, the integration of AI into diagnostic imaging is not without challenges. One of the primary concerns is \n",
      "the “black box” nature of some AI algorithms, particularly deep learning models. These models often operate in ways \n",
      "that are not fully transparent, making it difficult to understand how they arrive at certain conclusions. This lack of \n",
      "interpretability can be a barrier to adoption, as healthcare professionals are hesitant to rely on tools that they do not fully \n",
      "understand, especially in critical areas like diagnosis. Efforts are being made to develop more explainable AI systems \n",
      "that provide insights into their decision-making processes, which could help in building trust among healthcare \n",
      "providers. Additionally, the deployment of AI in diagnostic imaging requires careful consideration of data privacy and \n",
      "security. AI systems rely on large amounts of patient data to function effectively, raising concerns about the protection \n",
      "of sensitive health information. Ensuring that AI systems comply with regulations such as HIPAA in the United States \n",
      "\n",
      "\n"
     ]
    }
   ],
   "source": [
    "import boto3\n",
    "import fitz  # PyMuPDF\n",
    "import io\n",
    "\n",
    "s3 = boto3.client(\"s3\")  \n",
    "\n",
    "def extract_text_from_s3(bucket_name=\"ai-document-storage\", s3_key=\"ai_document.pdf\"):\n",
    "    \"\"\"Reads a PDF from S3 and extracts text.\"\"\"\n",
    "    try:\n",
    "        obj = s3.get_object(Bucket=bucket_name, Key=s3_key)  \n",
    "        pdf_stream = io.BytesIO(obj[\"Body\"].read())  \n",
    "        doc = fitz.open(stream=pdf_stream, filetype=\"pdf\") \n",
    "\n",
    "        pages = [page.get_text(\"text\") for page in doc]  \n",
    "        return pages  \n",
    "\n",
    "    except Exception as e:\n",
    "        print(f\"❌ Failed to process PDF from S3: {e}\")\n",
    "        return None\n",
    "\n",
    "# Extract text from S3 PDF\n",
    "pdf_text = extract_text_from_s3()\n",
    "\n",
    "if pdf_text:\n",
    "    for i, page in enumerate(pdf_text[:3]):\n",
    "        print(f\"Page {i+1}:\\n{page}\\n\")"
   ]
  },
  {
   "cell_type": "markdown",
   "metadata": {},
   "source": [
    "#### Testing the FAISS Search Functionality, confirming FAISS search works correctly—i.e., when the user provides input, it should return relevant results from the stored data."
   ]
  },
  {
   "cell_type": "code",
   "execution_count": null,
   "metadata": {},
   "outputs": [
    {
     "name": "stdout",
     "output_type": "stream",
     "text": [
      "200\n",
      "{'message': '✅ PDF processed and stored in FAISS successfully!'}\n"
     ]
    }
   ],
   "source": [
    "import requests\n",
    "url = \"http://127.0.0.1:8000/process-pdf\"\n",
    "\n",
    "# Send a POST request to process the PDF stored in S3\n",
    "response = requests.post(url)\n",
    "\n",
    "print(response.status_code)  \n",
    "print(response.json())  "
   ]
  },
  {
   "cell_type": "code",
   "execution_count": null,
   "metadata": {},
   "outputs": [
    {
     "name": "stdout",
     "output_type": "stream",
     "text": [
      "200\n",
      "{'response': \"AI in healthcare refers to the utilization of machine learning algorithms and cognitive technologies to aid in the diagnosis, treatment, and overall management of patient care. It involves advanced image recognition and pattern analysis to help clinicians identify diseases earlier, leading to more effective treatments and improved patient outcomes. The integration of AI technology in healthcare is revolutionizing various aspects of the industry, including drug discovery, surgical robotics, diagnostics, personalized treatment, natural language processing, AI-enhanced telemedicine, wearable health technologies, and ethical AI governance. As AI technology continues to advance, its impact on healthcare is expected to become increasingly significant, driving progress in patient care, operational efficiency, and medical research with collaborative efforts among technologists, clinicians, researchers, and policymakers playing a crucial role in maximizing AI's potential.\", 'session_id': 'test_session_1', 'chat_history': [['What is AI in healthcare?', 'AI in healthcare refers to the utilization of machine learning algorithms and other cognitive technologies to assist healthcare professionals in tasks such as diagnosis, treatment, and overall patient care management. Through advanced image recognition and pattern analysis, AI systems help clinicians identify diseases earlier, leading to more effective treatments and improved patient outcomes. AI integration in healthcare encompasses various areas such as drug discovery, surgical robotics, diagnostics, personalized treatment, natural language processing, AI-enhanced telemedicine, wearable health technologies, and ethical AI governance. As AI technology advances, its impact on healthcare is expected to have significant effects on patient care, operational efficiency, and medical research, requiring collaboration among technologists, clinicians, researchers, and policymakers to harness its full potential.'], ['What is AI in healthcare?', 'AI in healthcare refers to the utilization of machine learning algorithms and cognitive technologies to aid in the diagnosis, treatment, and management of patient care. Advanced image recognition and pattern analysis are examples of how AI systems are being used to assist clinicians in identifying diseases earlier, leading to more effective treatments and improved patient outcomes. The integration of AI technologies into healthcare is transforming various aspects of the industry, including drug discovery, surgical robotics, diagnostics, and personalized treatment. This use of AI includes natural language processing, AI-enhanced telemedicine, wearable health technologies, and ethical AI governance, with the goal of enhancing patient care, operational efficiency, and medical research. As AI technology continues to advance, its impact on healthcare is expected to become increasingly significant.']]}\n"
     ]
    }
   ],
   "source": [
    "import requests\n",
    "import json\n",
    "\n",
    "# the URL for the FastAPI server\n",
    "url = \"http://127.0.0.1:8000/chat\"\n",
    "\n",
    "# Create the payload for the POST \n",
    "payload = {\n",
    "    \"session_id\": \"test_session_1\",  # This can be any session ID\n",
    "    \"user_input\": \"What is AI in healthcare?\",  \n",
    "    \"data_source\": \"PDF\"  \n",
    "}\n",
    "\n",
    "# Send the POST request\n",
    "response = requests.post(url, json=payload)\n",
    "\n",
    "print(response.status_code)  \n",
    "print(response.json())  "
   ]
  },
  {
   "cell_type": "code",
   "execution_count": 24,
   "metadata": {},
   "outputs": [
    {
     "name": "stdout",
     "output_type": "stream",
     "text": [
      "Raw Response Status: 500\n",
      "Raw Response Text: {\"error\":\"Failed to generate AI response\"}\n"
     ]
    }
   ],
   "source": [
    "import requests\n",
    "\n",
    "url = \"http://127.0.0.1:8000/chat\"\n",
    "data = {\n",
    "    \"session_id\": \"\",\n",
    "    \"user_input\": \"why is ai important in health care.\",\n",
    "    \"data_source\": \"ai_document.pdf\"\n",
    "}\n",
    "\n",
    "response = requests.post(url, json=data)\n",
    "print(\"Raw Response Status:\", response.status_code)\n",
    "print(\"Raw Response Text:\", response.text)"
   ]
  },
  {
   "cell_type": "markdown",
   "metadata": {},
   "source": [
    "### Read the PDF from S3"
   ]
  },
  {
   "cell_type": "code",
   "execution_count": null,
   "metadata": {},
   "outputs": [
    {
     "name": "stdout",
     "output_type": "stream",
     "text": [
      "See discussions, stats, and author profiles for this publication at: https://www.researchgate.net/publication/383212769\n",
      "AI in Healthcare: Revolutionizing Diagnosis and Therapy\n",
      "Article  in  International Journal of Multidisciplinary Sciences and Arts · July 2024\n",
      "DOI: 10.47709/ijmdsa.v3i3.4546\n",
      "CITATIONS\n",
      "31\n",
      "READS\n",
      "777\n",
      "4 authors, including:\n",
      "Nasrullah Abbasi\n",
      "Independent Researcher\n",
      "15 PUBLICATIONS   132 CITATIONS   \n",
      "SEE PROFILE\n",
      "All content following this page was uploaded by Nasrullah Abbasi on 18 August 2024.\n",
      "The user has requested enhancement of the downloaded file.\n",
      "\n"
     ]
    }
   ],
   "source": [
    "import boto3\n",
    "import fitz  # PyMuPDF\n",
    "import io\n",
    "\n",
    "# AWS S3 Client\n",
    "s3 = boto3.client(\"s3\")\n",
    "\n",
    "bucket_name = 'ai-document-storage'  \n",
    "s3_key = 'ai_document.pdf'  \n",
    "\n",
    "# Fetch file from S3\n",
    "response = s3.get_object(Bucket=bucket_name, Key=s3_key)\n",
    "pdf_file = io.BytesIO(response['Body'].read())\n",
    "\n",
    "# Ensure the BytesIO object is correctly passed to PyMuPDF\n",
    "pdf_bytes = pdf_file.read()  # Read the bytes of the PDF\n",
    "pdf_file.close()  # Close the BytesIO object after reading\n",
    "\n",
    "# Open the PDF file using PyMuPDF with the bytes\n",
    "doc = fitz.open(stream=pdf_bytes, filetype=\"pdf\")\n",
    "\n",
    "# Verify the PDF is loaded by printing the first page's text\n",
    "first_page_text = doc[0].get_text(\"text\")\n",
    "print(first_page_text)"
   ]
  },
  {
   "cell_type": "markdown",
   "metadata": {},
   "source": [
    "###  Modify the document content"
   ]
  },
  {
   "cell_type": "code",
   "execution_count": null,
   "metadata": {},
   "outputs": [],
   "source": [
    "# Content to add to the PDF\n",
    "new_content = \"\"\"\n",
    "# E-Health at Psymeon\n",
    "The e-health sector of Psymeon includes the POCKET-Therapist series of applications. These digital health tools are designed to help manage mental health conditions such as depression, anxiety, PTSD, and substance use disorders. They can be used preventively or as a complement to ongoing therapy.\n",
    "\n",
    "## ALVIE - A Digital Health Application\n",
    "ALVIE is a digital health application developed by Psymeon to support individuals with depression. It offers tools for managing depressive symptoms and can be used alongside therapy. ALVIE is part of the POCKET-Therapist series, which aims to bridge gaps in care for mental health patients.\n",
    "\n",
    "# Consulting Services\n",
    "Psymeon offers professional consulting services to help leaders overcome stress, uncertainty, and challenges in both personal and professional areas. These services aim to provide individuals with the support they need during difficult times.\n",
    "\n",
    "# Research and AI in Medicine\n",
    "Psymeon is at the forefront of applying artificial intelligence in medicine, particularly in the areas of mental health and neuroscience. We are actively developing AI-driven solutions to improve diagnostics, treatment plans, and patient outcomes. Our research focuses on understanding brain function and mental health disorders, and creating innovative treatment methods.\n",
    "\"\"\"\n",
    "\n",
    "# Add the new content to the last page of the PDF\n",
    "page_num = doc.page_count - 1  # Use the last page\n",
    "page = doc.load_page(page_num)\n",
    "\n",
    "# Add the new content (this will add the content in the form of a text block)\n",
    "page.insert_text((50, 50), new_content, fontsize=12)\n",
    "\n",
    "# Save the modified PDF to a new file or overwrite the existing file\n",
    "modified_pdf_path = \"/tmp/modified_ai_document.pdf\"\n",
    "doc.save(modified_pdf_path)\n",
    "\n",
    "print(f\"New content added to the PDF. Saved at {modified_pdf_path}\")"
   ]
  },
  {
   "cell_type": "code",
   "execution_count": 20,
   "metadata": {},
   "outputs": [
    {
     "name": "stdout",
     "output_type": "stream",
     "text": [
      "File exists at: /tmp/modified_ai_document.pdf\n"
     ]
    }
   ],
   "source": [
    "import os\n",
    "\n",
    "modified_pdf_path = \"/tmp/modified_ai_document.pdf\"\n",
    "if os.path.exists(modified_pdf_path):\n",
    "    print(f\"File exists at: {modified_pdf_path}\")\n",
    "else:\n",
    "    print(\"File not found.\")"
   ]
  },
  {
   "cell_type": "markdown",
   "metadata": {},
   "source": [
    "###  Upload the modified file to S3 bucket."
   ]
  },
  {
   "cell_type": "code",
   "execution_count": null,
   "metadata": {},
   "outputs": [
    {
     "name": "stdout",
     "output_type": "stream",
     "text": [
      "Successfully uploaded /tmp/modified_ai_document.pdf to S3 with key ai_document.pdf\n"
     ]
    }
   ],
   "source": [
    "import boto3\n",
    "\n",
    "# S3 Client setup\n",
    "s3 = boto3.client(\"s3\")\n",
    "\n",
    "bucket_name = \"ai-document-storage\"  #\n",
    "file_path = \"/tmp/modified_ai_document.pdf\" \n",
    "s3_key = \"ai_document.pdf\"  \n",
    "\n",
    "# Upload the modified file to S3\n",
    "s3.upload_file(file_path, bucket_name, s3_key)\n",
    "\n",
    "print(f\"Successfully uploaded {file_path} to S3 with key {s3_key}\")"
   ]
  },
  {
   "cell_type": "code",
   "execution_count": null,
   "metadata": {},
   "outputs": [
    {
     "name": "stdout",
     "output_type": "stream",
     "text": [
      "Checking if new content is added...\n",
      "Found the keyword: 'E-Health at Psymeon' in the extracted text.\n",
      "Found the keyword: 'ALVIE - A Digital Health Application' in the extracted text.\n",
      "Found the keyword: 'Consulting Services' in the extracted text.\n",
      "Found the keyword: 'Research and AI in Medicine' in the extracted text.\n"
     ]
    }
   ],
   "source": [
    "import boto3\n",
    "import io\n",
    "import fitz  # PyMuPDF for reading PDF files\n",
    "\n",
    "# S3 configuration\n",
    "bucket_name = \"ai-document-storage\"\n",
    "s3_key = \"ai_document.pdf\"  \n",
    "\n",
    "# AWS S3 client\n",
    "s3 = boto3.client('s3')\n",
    "\n",
    "# Function to read PDF from S3 and extract text\n",
    "def extract_pdf_text_from_s3(bucket_name, s3_key):\n",
    "    try:\n",
    "        # Get the PDF file from S3\n",
    "        obj = s3.get_object(Bucket=bucket_name, Key=s3_key)\n",
    "        pdf_file = io.BytesIO(obj['Body'].read())\n",
    "\n",
    "        # Open the PDF file using PyMuPDF\n",
    "        doc = fitz.open(stream=pdf_file)  # Use 'stream' to open from the BytesIO object\n",
    "        \n",
    "        # Extract text from all pages\n",
    "        text = \"\"\n",
    "        for page_num in range(doc.page_count):\n",
    "            page = doc.load_page(page_num)\n",
    "            text += page.get_text(\"text\")\n",
    "        \n",
    "        return text\n",
    "    except Exception as e:\n",
    "        print(f\"Error reading PDF: {e}\")\n",
    "        return None\n",
    "\n",
    "# Function to search for the added content in the extracted text\n",
    "def search_for_added_content(extracted_text, keyword):\n",
    "    if keyword.lower() in extracted_text.lower():\n",
    "        print(f\"Found the keyword: '{keyword}' in the extracted text.\")\n",
    "    else:\n",
    "        print(f\"Keyword '{keyword}' not found in the extracted text.\")\n",
    "\n",
    "# Extract the text from the uploaded PDF\n",
    "extracted_text = extract_pdf_text_from_s3(bucket_name, s3_key)\n",
    "\n",
    "# Check if the new content is present\n",
    "if extracted_text:\n",
    "    print(\"Checking if new content is added...\")\n",
    "\n",
    "    # Check for keywords related to the added content\n",
    "    search_for_added_content(extracted_text, \"E-Health at Psymeon\")\n",
    "    search_for_added_content(extracted_text, \"ALVIE - A Digital Health Application\")\n",
    "    search_for_added_content(extracted_text, \"Consulting Services\")\n",
    "    search_for_added_content(extracted_text, \"Research and AI in Medicine\")\n",
    "\n",
    "else:\n",
    "    print(\"Failed to extract text from the PDF.\")"
   ]
  }
 ],
 "metadata": {
  "kernelspec": {
   "display_name": "base",
   "language": "python",
   "name": "python3"
  },
  "language_info": {
   "codemirror_mode": {
    "name": "ipython",
    "version": 3
   },
   "file_extension": ".py",
   "mimetype": "text/x-python",
   "name": "python",
   "nbconvert_exporter": "python",
   "pygments_lexer": "ipython3",
   "version": "3.11.8"
  }
 },
 "nbformat": 4,
 "nbformat_minor": 2
}
